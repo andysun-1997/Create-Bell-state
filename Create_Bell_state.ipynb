{
  "nbformat": 4,
  "nbformat_minor": 0,
  "metadata": {
    "colab": {
      "name": "QSOF Task 2.ipynb",
      "provenance": [],
      "collapsed_sections": [],
      "authorship_tag": "ABX9TyNMiYXnRIfYGsDMMF9ybac6",
      "include_colab_link": true
    },
    "kernelspec": {
      "name": "python3",
      "display_name": "Python 3"
    },
    "accelerator": "GPU"
  },
  "cells": [
    {
      "cell_type": "markdown",
      "metadata": {
        "id": "view-in-github",
        "colab_type": "text"
      },
      "source": [
        "<a href=\"https://colab.research.google.com/github/andysun-1997/Create-Bell-state/blob/master/Create_Bell_state.ipynb\" target=\"_parent\"><img src=\"https://colab.research.google.com/assets/colab-badge.svg\" alt=\"Open In Colab\"/></a>"
      ]
    },
    {
      "cell_type": "markdown",
      "metadata": {
        "id": "-Se-oZpcfEOJ",
        "colab_type": "text"
      },
      "source": [
        "\n",
        "## Summary\n",
        "*   We use a variational circuit to produce the target state by optimizing circuit parameters\n",
        "*   Higher number of measurements makes the result more accurate\n",
        "*   To produce exactly the state |01> + |10>, I think we need to access the final state vector instead of sampling from the final state     \n",
        "\n",
        "\n",
        "\n"
      ]
    },
    {
      "cell_type": "code",
      "metadata": {
        "id": "6DhVc3IByYMZ",
        "colab_type": "code",
        "colab": {}
      },
      "source": [
        "!pip install tensorflow==2.1.0"
      ],
      "execution_count": null,
      "outputs": []
    },
    {
      "cell_type": "code",
      "metadata": {
        "id": "Hq70i8Q0yfKL",
        "colab_type": "code",
        "colab": {}
      },
      "source": [
        "!pip install tensorflow-quantum"
      ],
      "execution_count": null,
      "outputs": []
    },
    {
      "cell_type": "code",
      "metadata": {
        "id": "nu1lJt-Fyy39",
        "colab_type": "code",
        "colab": {}
      },
      "source": [
        "import tensorflow as tf\n",
        "import tensorflow_quantum as tfq\n",
        "\n",
        "import cirq\n",
        "import sympy\n",
        "import numpy as np\n",
        "\n",
        "# visualization tools\n",
        "%matplotlib inline\n",
        "import matplotlib.pyplot as plt\n",
        "from cirq.contrib.svg import SVGCircuit"
      ],
      "execution_count": null,
      "outputs": []
    },
    {
      "cell_type": "code",
      "metadata": {
        "id": "D83OALnh0lfa",
        "colab_type": "code",
        "colab": {}
      },
      "source": [
        "# variables\n",
        "symbols = sympy.symbols('a b c d')"
      ],
      "execution_count": null,
      "outputs": []
    },
    {
      "cell_type": "code",
      "metadata": {
        "id": "GE6zRAD6znvl",
        "colab_type": "code",
        "colab": {}
      },
      "source": [
        "# create qubits\n",
        "q0, q1 = cirq.LineQubit.range(2)"
      ],
      "execution_count": null,
      "outputs": []
    },
    {
      "cell_type": "code",
      "metadata": {
        "id": "GvVMBejL0qfK",
        "colab_type": "code",
        "colab": {}
      },
      "source": [
        "# create variational circuit\n",
        "def get_var_form(symbols):\n",
        "  circuit = cirq.Circuit(\n",
        "    cirq.rx(symbols[0]).on(q0),\n",
        "    cirq.rx(symbols[1]).on(q1), \n",
        "    cirq.ry(symbols[2]).on(q0),\n",
        "    cirq.ry(symbols[3]).on(q1),\n",
        "    # Monte Carlo Simulation of Noise\n",
        "    cirq.bit_flip(p=0.02)(q0),\n",
        "    cirq.bit_flip(p=0.02)(q1), \n",
        "    cirq.CNOT(control=q0, target=q1),\n",
        "    )\n",
        "  return circuit"
      ],
      "execution_count": 78,
      "outputs": []
    },
    {
      "cell_type": "code",
      "metadata": {
        "id": "BvWYIqPc0qY6",
        "colab_type": "code",
        "colab": {
          "base_uri": "https://localhost:8080/",
          "height": 121
        },
        "outputId": "d9fac81d-17b8-455d-a0af-9c16e011157f"
      },
      "source": [
        "# Circuit Visualization\n",
        "circuit = get_var_form(symbols)\n",
        "SVGCircuit(circuit)"
      ],
      "execution_count": null,
      "outputs": [
        {
          "output_type": "execute_result",
          "data": {
            "text/plain": [
              "<cirq.contrib.svg.svg.SVGCircuit at 0x7f66c9f74cf8>"
            ],
            "image/svg+xml": "<svg xmlns=\"http://www.w3.org/2000/svg\" width=\"376.899609375\" height=\"100.0\"><line x1=\"30.0\" x2=\"346.899609375\" y1=\"25.0\" y2=\"25.0\" stroke=\"#1967d2\" stroke-width=\"1\" /><line x1=\"30.0\" x2=\"346.899609375\" y1=\"75.0\" y2=\"75.0\" stroke=\"#1967d2\" stroke-width=\"1\" /><line x1=\"306.899609375\" x2=\"306.899609375\" y1=\"25.0\" y2=\"75.0\" stroke=\"black\" stroke-width=\"3\" /><rect x=\"10.0\" y=\"5.0\" width=\"40\" height=\"40\" stroke=\"black\" fill=\"white\" stroke-width=\"0\" /><text x=\"30.0\" y=\"25.0\" dominant-baseline=\"middle\" text-anchor=\"middle\" font-size=\"14px\">0: </text><rect x=\"10.0\" y=\"55.0\" width=\"40\" height=\"40\" stroke=\"black\" fill=\"white\" stroke-width=\"0\" /><text x=\"30.0\" y=\"75.0\" dominant-baseline=\"middle\" text-anchor=\"middle\" font-size=\"14px\">1: </text><rect x=\"70.0\" y=\"5.0\" width=\"45.246640625\" height=\"40\" stroke=\"black\" fill=\"white\" stroke-width=\"1\" /><text x=\"92.6233203125\" y=\"25.0\" dominant-baseline=\"middle\" text-anchor=\"middle\" font-size=\"14px\">Rx(a)</text><rect x=\"70.0\" y=\"55.0\" width=\"45.246640625\" height=\"40\" stroke=\"black\" fill=\"white\" stroke-width=\"1\" /><text x=\"92.6233203125\" y=\"75.0\" dominant-baseline=\"middle\" text-anchor=\"middle\" font-size=\"14px\">Rx(b)</text><rect x=\"135.246640625\" y=\"5.0\" width=\"44.476640625\" height=\"40\" stroke=\"black\" fill=\"white\" stroke-width=\"1\" /><text x=\"157.4849609375\" y=\"25.0\" dominant-baseline=\"middle\" text-anchor=\"middle\" font-size=\"14px\">Ry(c)</text><rect x=\"135.246640625\" y=\"55.0\" width=\"44.476640625\" height=\"40\" stroke=\"black\" fill=\"white\" stroke-width=\"1\" /><text x=\"157.4849609375\" y=\"75.0\" dominant-baseline=\"middle\" text-anchor=\"middle\" font-size=\"14px\">Ry(d)</text><rect x=\"199.72328125\" y=\"5.0\" width=\"67.176328125\" height=\"40\" stroke=\"black\" fill=\"white\" stroke-width=\"1\" /><text x=\"233.3114453125\" y=\"25.0\" dominant-baseline=\"middle\" text-anchor=\"middle\" font-size=\"14px\">BF(0.02)</text><rect x=\"199.72328125\" y=\"55.0\" width=\"67.176328125\" height=\"40\" stroke=\"black\" fill=\"white\" stroke-width=\"1\" /><text x=\"233.3114453125\" y=\"75.0\" dominant-baseline=\"middle\" text-anchor=\"middle\" font-size=\"14px\">BF(0.02)</text><circle cx=\"306.899609375\" cy=\"25.0\" r=\"10.0\" /><rect x=\"286.899609375\" y=\"55.0\" width=\"40\" height=\"40\" stroke=\"black\" fill=\"white\" stroke-width=\"1\" /><text x=\"306.899609375\" y=\"75.0\" dominant-baseline=\"middle\" text-anchor=\"middle\" font-size=\"18px\">X</text></svg>"
          },
          "metadata": {
            "tags": []
          },
          "execution_count": 71
        }
      ]
    },
    {
      "cell_type": "code",
      "metadata": {
        "id": "p4nOb5Lk1KLO",
        "colab_type": "code",
        "colab": {
          "base_uri": "https://localhost:8080/",
          "height": 69
        },
        "outputId": "93916800-047c-4a5a-9582-0fb41f0da408"
      },
      "source": [
        "simulator = cirq.Simulator()\n",
        "#initialize parameters to all 0's\n",
        "params = [0] * 4\n",
        "params = tf.convert_to_tensor(\n",
        "    params, dtype=tf.float32, dtype_hint=None, name=None\n",
        ")\n",
        "print('starting parameters:')\n",
        "print(params)\n",
        "param0, param1, param2, param3 = 0, 0, 0, 0 \n",
        "# number of measurements\n",
        "reps = 1000\n",
        "# loss function\n",
        "def loss(params):\n",
        "  qc = get_var_form(symbols)\n",
        "  qc.append(cirq.measure(q0, q1, key='result'))\n",
        "  resolver = cirq.ParamResolver({symbols[0]: params[0], symbols[1]: params[1], symbols[2]: params[2], symbols[3]: params[3]})\n",
        "  results = simulator.run(qc, resolver, repetitions=reps)\n",
        "  counter = results.histogram(key='result')\n",
        "  # loss as sampling probabilities' euclidean distance to (1/2, 1/2)\n",
        "  loss = (counter[1]/reps - 0.5)**2 + (counter[2]/reps - 0.5)**2\n",
        "  return loss\n",
        "l = loss(params)\n",
        "print('starting loss:' + str(l))"
      ],
      "execution_count": 77,
      "outputs": [
        {
          "output_type": "stream",
          "text": [
            "starting parameters:\n",
            "tf.Tensor([0. 0. 0. 0.], shape=(4,), dtype=float32)\n",
            "starting loss:0.478442\n"
          ],
          "name": "stdout"
        }
      ]
    },
    {
      "cell_type": "code",
      "metadata": {
        "id": "FT_z1VAINmjB",
        "colab_type": "code",
        "colab": {
          "base_uri": "https://localhost:8080/",
          "height": 139
        },
        "outputId": "6e1b5c72-5abb-4e18-f65f-9c9e1547ac07"
      },
      "source": [
        "# optimize\n",
        "from scipy.optimize import minimize\n",
        "from scipy import optimize\n",
        "\n",
        "# Various optimization algorithms\n",
        "res = minimize(loss, params, method='COBYLA', tol=0.001) ## COBYLA # powell # Nelder-Mead # BFGS\n",
        "print(res)"
      ],
      "execution_count": 79,
      "outputs": [
        {
          "output_type": "stream",
          "text": [
            "     fun: 0.0021409999999999984\n",
            "   maxcv: 0.0\n",
            " message: 'Optimization terminated successfully.'\n",
            "    nfev: 40\n",
            "  status: 1\n",
            " success: True\n",
            "       x: array([ 2.09372851,  2.93786202,  1.60129306, -0.20385986])\n"
          ],
          "name": "stdout"
        }
      ]
    },
    {
      "cell_type": "code",
      "metadata": {
        "id": "XTJrjE8qIv4Y",
        "colab_type": "code",
        "colab": {
          "base_uri": "https://localhost:8080/",
          "height": 121
        },
        "outputId": "2559b4cb-9cf6-48ff-c7cf-5822ef6a3039"
      },
      "source": [
        "#verify result\n",
        "resolver = cirq.ParamResolver({symbols[0]: res.x[0], symbols[1]: res.x[1], symbols[2]: res.x[2], symbols[3]: res.x[3]})\n",
        "qc = get_var_form(symbols)\n",
        "qc.append(cirq.measure(q0, q1, key='result'))\n",
        "results = simulator.run(qc, resolver, repetitions=reps)\n",
        "counter = results.histogram(key='result')\n",
        "loss = (counter[1]/reps - 0.5)**2 + (counter[2]/reps - 0.5)**2\n",
        "print('sampling result: ')\n",
        "print(counter)\n",
        "print('loss: ' + str(loss))\n",
        "\n",
        "# get state vector\n",
        "qc0 = get_var_form(symbols)\n",
        "state = simulator.simulate(qc0, resolver).final_state\n",
        "print('state vector: ')\n",
        "print(state)"
      ],
      "execution_count": 80,
      "outputs": [
        {
          "output_type": "stream",
          "text": [
            "sampling result: \n",
            "Counter({1: 487, 2: 470, 0: 23, 3: 20})\n",
            "loss: 0.0010690000000000018\n",
            "state vector: \n",
            "[ 0.09815069+0.02761446j  0.61148375-0.35114914j -0.6003258 -0.34915677j\n",
            " -0.02469578-0.09733628j]\n"
          ],
          "name": "stdout"
        }
      ]
    }
  ]
}